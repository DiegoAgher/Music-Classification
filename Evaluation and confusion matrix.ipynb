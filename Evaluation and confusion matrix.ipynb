{
 "cells": [
  {
   "cell_type": "code",
   "execution_count": 2,
   "metadata": {},
   "outputs": [
    {
     "name": "stderr",
     "output_type": "stream",
     "text": [
      "Using TensorFlow backend.\n",
      "/Users/diegoaguado/anaconda2/envs/music/lib/python3.6/importlib/_bootstrap.py:219: RuntimeWarning: compiletime version 3.5 of module 'tensorflow.python.framework.fast_tensor_util' does not match runtime version 3.6\n",
      "  return f(*args, **kwds)\n"
     ]
    }
   ],
   "source": [
    "import numpy as np\n",
    "import itertools\n",
    "import matplotlib.pyplot as plt\n",
    "import fma.utils\n",
    "from keras.models import load_model\n",
    "from sklearn.metrics import confusion_matrix"
   ]
  },
  {
   "cell_type": "code",
   "execution_count": 3,
   "metadata": {},
   "outputs": [
    {
     "name": "stdout",
     "output_type": "stream",
     "text": [
      "Read 8000 files\n"
     ]
    },
    {
     "name": "stderr",
     "output_type": "stream",
     "text": [
      "/Users/diegoaguado/Desktop/Music_Project/Music-Classification/fma/utils.py:213: FutureWarning: specifying 'categories' or 'ordered' in .astype() is deprecated; pass a CategoricalDtype instead\n",
      "  'category', categories=SUBSETS, ordered=True)\n"
     ]
    }
   ],
   "source": [
    "from utils.evaluation import get_full_song_predictions\n",
    "from utils.plotting import plot_confusion_matrix\n",
    "from build_spectrograms import build_spectrograms"
   ]
  },
  {
   "cell_type": "markdown",
   "metadata": {},
   "source": [
    "# How to use this notebook.\n",
    "The following notebook evaluates the 3 different datasets and plots the corresponding confusion matrix.\n",
    "\n",
    "## Parameters\n",
    "To evaluate your model, select the parameters to build the spectrograms with the corresponding shape while training your model and change the model path to load it."
   ]
  },
  {
   "cell_type": "code",
   "execution_count": 4,
   "metadata": {},
   "outputs": [
    {
     "name": "stdout",
     "output_type": "stream",
     "text": [
      "\n",
      " Found spectrograms for hop_length 366 and windows 10\n"
     ]
    }
   ],
   "source": [
    "windows_number = 10\n",
    "hop_length = 366\n",
    "\n",
    "small_dataset_spectrograms = build_spectrograms(windows_number, hop_length)"
   ]
  },
  {
   "cell_type": "code",
   "execution_count": 5,
   "metadata": {},
   "outputs": [],
   "source": [
    "model_path = 'saved_models/hop_length_366_conv_64.h5'"
   ]
  },
  {
   "cell_type": "code",
   "execution_count": 6,
   "metadata": {
    "scrolled": true
   },
   "outputs": [],
   "source": [
    "my_model = load_model(model_path)"
   ]
  },
  {
   "cell_type": "code",
   "execution_count": 7,
   "metadata": {},
   "outputs": [],
   "source": [
    "train_sequences, y_train_binary_sequences = small_dataset_spectrograms['train']                                                                    \n",
    "val_sequences, y_val_binary_sequences = small_dataset_spectrograms['val']                                                                          \n",
    "test_sequences, y_test_binary_sequences = small_dataset_spectrograms['test']                                                                       \n",
    "del small_dataset_spectrograms"
   ]
  },
  {
   "cell_type": "markdown",
   "metadata": {},
   "source": [
    "# Train dataset evaluation\n",
    "## Evaluation of all windows"
   ]
  },
  {
   "cell_type": "code",
   "execution_count": 8,
   "metadata": {},
   "outputs": [
    {
     "name": "stdout",
     "output_type": "stream",
     "text": [
      "31904/31950 [============================>.] - ETA: 0s\n",
      "Loss: 0.5318374171131618 ; Acc: 0.7996244131511366 on windowed test dataset \n"
     ]
    }
   ],
   "source": [
    "loss, accuracy = my_model.evaluate(train_sequences,                                                                                         \n",
    "                                   y_train_binary_sequences)                                                                                                                                                                                               \n",
    "\n",
    "print(\"\\nLoss: {} ; Acc: {} on windowed test dataset \".format(loss, accuracy))"
   ]
  },
  {
   "cell_type": "markdown",
   "metadata": {},
   "source": [
    "## Evaluation averaging among windows"
   ]
  },
  {
   "cell_type": "code",
   "execution_count": 9,
   "metadata": {},
   "outputs": [
    {
     "name": "stdout",
     "output_type": "stream",
     "text": [
      "\n",
      "Accuracy for full songs is 0.8447574334898279\n"
     ]
    }
   ],
   "source": [
    "window_probabilities = my_model.predict(train_sequences)\n",
    "y_train, predictions, accuracy = get_full_song_predictions(window_probabilities, y_train_binary_sequences)"
   ]
  },
  {
   "cell_type": "code",
   "execution_count": 10,
   "metadata": {},
   "outputs": [
    {
     "name": "stdout",
     "output_type": "stream",
     "text": [
      "Normalized confusion matrix\n",
      "[[ 0.75093867  0.0738423   0.10763454  0.06758448]\n",
      " [ 0.01380176  0.94730238  0.00627353  0.03262233]\n",
      " [ 0.0525      0.015       0.77125     0.16125   ]\n",
      " [ 0.01001252  0.00876095  0.07133917  0.90988736]]\n"
     ]
    },
    {
     "data": {
      "image/png": "[encoded data removed]",
      "text/plain": [
       "<matplotlib.figure.Figure at 0x12d2f7b70>"
      ]
     },
     "metadata": {},
     "output_type": "display_data"
    }
   ],
   "source": [
    "train_confmatrix = confusion_matrix((y_train), predictions)\n",
    "plot_confusion_matrix(train_confmatrix, range(4), normalize=True)"
   ]
  },
  {
   "cell_type": "markdown",
   "metadata": {},
   "source": [
    "# Validation dataset evaluation\n",
    "## Evaluation of all windows"
   ]
  },
  {
   "cell_type": "code",
   "execution_count": 11,
   "metadata": {},
   "outputs": [
    {
     "name": "stdout",
     "output_type": "stream",
     "text": [
      "4000/4000 [==============================] - 3s     \n",
      "\n",
      "Loss: 0.8773934267312288 ; Acc: 0.6995 on windowed test dataset \n"
     ]
    }
   ],
   "source": [
    "loss, accuracy = my_model.evaluate(val_sequences,                                                                                         \n",
    "                                   y_val_binary_sequences)                                                                                                                                                                                               \n",
    "       \n",
    "print(\"\\nLoss: {} ; Acc: {} on windowed test dataset \".format(loss, accuracy))"
   ]
  },
  {
   "cell_type": "markdown",
   "metadata": {},
   "source": [
    "## Evaluation averaging among windows"
   ]
  },
  {
   "cell_type": "code",
   "execution_count": 12,
   "metadata": {},
   "outputs": [
    {
     "name": "stdout",
     "output_type": "stream",
     "text": [
      "\n",
      "Accuracy for full songs is 0.7425\n"
     ]
    }
   ],
   "source": [
    "window_probabilities = my_model.predict(val_sequences)\n",
    "y_val, predictions, accuracy = get_full_song_predictions(window_probabilities, y_val_binary_sequences)"
   ]
  },
  {
   "cell_type": "code",
   "execution_count": 13,
   "metadata": {
    "scrolled": false
   },
   "outputs": [
    {
     "name": "stdout",
     "output_type": "stream",
     "text": [
      "Normalized confusion matrix\n",
      "[[ 0.65  0.14  0.12  0.09]\n",
      " [ 0.19  0.78  0.    0.03]\n",
      " [ 0.06  0.01  0.63  0.3 ]\n",
      " [ 0.01  0.05  0.03  0.91]]\n"
     ]
    },
    {
     "data": {
      "image/png": "[encoded data removed]",
      "text/plain": [
       "<matplotlib.figure.Figure at 0x124733d68>"
      ]
     },
     "metadata": {},
     "output_type": "display_data"
    }
   ],
   "source": [
    "val_confmatrix = confusion_matrix((y_val), predictions)\n",
    "plot_confusion_matrix(val_confmatrix, range(4), normalize=True)"
   ]
  },
  {
   "cell_type": "markdown",
   "metadata": {},
   "source": [
    "# Test dataset evaluation\n",
    "## Evaluation of all windows"
   ]
  },
  {
   "cell_type": "code",
   "execution_count": 17,
   "metadata": {},
   "outputs": [
    {
     "name": "stdout",
     "output_type": "stream",
     "text": [
      "3968/4000 [============================>.] - ETA: 0s\n",
      "Loss: 0.8607607940770685 ; Acc: 0.70275 on windowed test dataset \n"
     ]
    }
   ],
   "source": [
    "loss, accuracy = my_model.evaluate(test_sequences,                                                                                         \n",
    "                                   y_test_binary_sequences)                                                                                                                                                                                               \n",
    "\n",
    "print(\"\\nLoss: {} ; Acc: {} on windowed test dataset \".format(loss, accuracy))"
   ]
  },
  {
   "cell_type": "markdown",
   "metadata": {},
   "source": [
    "## Evaluation averaging among windows"
   ]
  },
  {
   "cell_type": "code",
   "execution_count": 15,
   "metadata": {},
   "outputs": [
    {
     "name": "stdout",
     "output_type": "stream",
     "text": [
      "\n",
      "Accuracy for full songs is 0.7575\n"
     ]
    }
   ],
   "source": [
    "predicted_probabilities = my_model.predict(test_sequences)\n",
    "y_test, predictions, accuracy = get_full_song_predictions(predicted_probabilities, y_test_binary_sequences)"
   ]
  },
  {
   "cell_type": "code",
   "execution_count": 18,
   "metadata": {},
   "outputs": [
    {
     "name": "stdout",
     "output_type": "stream",
     "text": [
      "Normalized confusion matrix\n",
      "[[ 0.68  0.18  0.07  0.07]\n",
      " [ 0.09  0.87  0.    0.04]\n",
      " [ 0.1   0.02  0.63  0.25]\n",
      " [ 0.    0.06  0.09  0.85]]\n"
     ]
    },
    {
     "data": {
      "image/png": "[encoded data removed]",
      "text/plain": [
       "<matplotlib.figure.Figure at 0x127b1d6a0>"
      ]
     },
     "metadata": {},
     "output_type": "display_data"
    }
   ],
   "source": [
    "test_confmatrix = confusion_matrix((y_test), predictions)\n",
    "plot_confusion_matrix(test_confmatrix, range(4), normalize=True)"
   ]
  },
  {
   "cell_type": "code",
   "execution_count": null,
   "metadata": {},
   "outputs": [],
   "source": []
  }
 ],
 "metadata": {
  "kernelspec": {
   "display_name": "Python 3",
   "language": "python",
   "name": "python3"
  },
  "language_info": {
   "codemirror_mode": {
    "name": "ipython",
    "version": 3
   },
   "file_extension": ".py",
   "mimetype": "text/x-python",
   "name": "python",
   "nbconvert_exporter": "python",
   "pygments_lexer": "ipython3",
   "version": "3.6.3"
  }
 },
 "nbformat": 4,
 "nbformat_minor": 2
}
